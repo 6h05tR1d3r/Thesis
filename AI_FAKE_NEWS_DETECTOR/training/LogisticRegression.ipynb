{
  "cells": [
    {
      "cell_type": "code",
      "execution_count": 1,
      "metadata": {
        "id": "j1uVeqVLYMmp"
      },
      "outputs": [],
      "source": [
        "import nltk\n",
        "import re\n",
        "import pandas as pd\n",
        "import numpy as np\n",
        "import seaborn as sns\n",
        "import matplotlib.pyplot as plt\n",
        "from nltk.corpus import wordnet as wn\n",
        "from collections import defaultdict"
      ]
    },
    {
      "cell_type": "code",
      "execution_count": 3,
      "metadata": {
        "colab": {
          "base_uri": "https://localhost:8080/"
        },
        "id": "Zxghr_9KYbsK",
        "outputId": "e0608517-0fd8-4980-9b99-1bc28541cfd9"
      },
      "outputs": [
        {
          "name": "stdout",
          "output_type": "stream",
          "text": [
            "Drive already mounted at /content/drive; to attempt to forcibly remount, call drive.mount(\"/content/drive\", force_remount=True).\n"
          ]
        }
      ],
      "source": [
        "from google.colab import drive\n",
        "drive.mount('/content/drive') # drive google mount"
      ]
    },
    {
      "cell_type": "markdown",
      "metadata": {
        "id": "s1CJRyjHU-86"
      },
      "source": [
        "### **Dataset Review and exploration**"
      ]
    },
    {
      "cell_type": "markdown",
      "metadata": {
        "id": "osURDX14jnqN"
      },
      "source": [
        "Load the data and join the datasets together"
      ]
    },
    {
      "cell_type": "code",
      "execution_count": 4,
      "metadata": {
        "colab": {
          "base_uri": "https://localhost:8080/",
          "height": 206
        },
        "id": "NjtjckebbxF_",
        "outputId": "92e166d1-830b-4441-f7f8-ee0bd496b852"
      },
      "outputs": [
        {
          "data": {
            "application/vnd.google.colaboratory.intrinsic+json": {
              "summary": "{\n  \"name\": \"df\",\n  \"rows\": 25058,\n  \"fields\": [\n    {\n      \"column\": \"text\",\n      \"properties\": {\n        \"dtype\": \"string\",\n        \"num_unique_values\": 22966,\n        \"samples\": [\n          \"mexico economy minister downplay trade deficit ahead nafta talk mexico economy minister ildefonso guajardo address medium close second round nafta talk involve united state mexico canada secretary economy headquarter mexico city mexico september reutersedgard garrido mexico city reuters united state mexico canada prepare another round negotiation revamp north american free trade agreement mexico economy minister tuesday urge party stop fixate trade deficit country trade disparity u mexico frequent complaint president donald trump threaten withdraw nafta get concession reduce u trade deficit around billion mexico mexican economy minister ildefonso guajardo insist talk overhaul yearold trade accord center trade deficit continue optic measurable objective reduction commercial deficit say interview local television discuss theme deficit would generate war protectionism would dismantle advance agreement nafta key pillar mexican economy percent country export send united state guajardo suggest demise trade agreement could create complication u well undesirable possible scenario united state leave agreement possibility deficit mexico grow high u mexico canada hold fourth round negotiation oct oct washington dc reporting sheky espejo julia love edit kim coghill\",\n          \"halloween costume mock nodapl activist hit social medium follow news share alternative medium outlet likely educate ordeal take place north dakota activist stand rock sioux tribe riot police\",\n          \"beat ban berkeley still censor sacramento motorola dead donbas live dr kevin barrett phd arabistislamologist one america bestknown critic war terror host truth jihad radio hard drive weekly live call radio show also appear many time fox cnn pb broadcast outlet inspired feature story opeds new york time christian science monitor chicago tribune lead publication dr barrett teach college university san francisco paris wisconsin run congress currently work nonprofit organizer author talk radio host beat ban berkeley still censor sacramento kevin barrett october kevin barrett veteran today editor thanks member social justice committee berkeley fellowship unitarian universalists large enthusiastic crowd turn talk recent false flag yesterday triumph free speech city give world free speech movement unlike last year talk watch one hold bfuu one member bfuu social justice community certain holly harwood demand schedule event cancel libelously claim jew hater homophobe one member social justice committee support holly harwood start inundate bfuu board lie distortion book board apparently include stealth zionist get elect conceal proisrael loyalty go along harwood vicious vilification campaign succeed increase turnout talk hold redwood garden instead bfuu harwood get message manage censor another berkeley free speech institution bonnie faulkner legendary gun butter radio show today broadcast go kpfa berkeley pacifica station feature interview bonnie record last week unfortunately mendacious complaint holly harwood bonnie apparently force cut final six minute interview feature explain ban bfuu censor gun butter segment please spread far wide censorship backfire last place earth would ever expect censorship anything berkeley california last two place berkeley would ever expect censored unitarian church gun butter radio show fall black hole emerge bizarro world counteruniverse berkeley unitarian authoritarians censor biblethumping baptist alabama cut edge free speech free thought unfettered intellectual inquiry memo association alabama baptists please invite radical muslim conspiracy theorist speak freedomloving church get bad speak sacramento tonight guess block news main local leader truth movement david kimball run sacramento truth sponsor andor help publicize previous talk area yet time return repeat phone call finally week start call get email david kimball send friday october pm subject sacramento event october th hi kevin receive phone message email apology late response recent year continue research thoroughly although still agreement official narrative true medium perpetuate big lie view longer agreement therefore good conscience promote upcoming speak event sincerely\"\n        ],\n        \"semantic_type\": \"\",\n        \"description\": \"\"\n      }\n    },\n    {\n      \"column\": \"label\",\n      \"properties\": {\n        \"dtype\": \"number\",\n        \"std\": 0,\n        \"min\": 0,\n        \"max\": 1,\n        \"num_unique_values\": 2,\n        \"samples\": [\n          0,\n          1\n        ],\n        \"semantic_type\": \"\",\n        \"description\": \"\"\n      }\n    }\n  ]\n}",
              "type": "dataframe",
              "variable_name": "df"
            },
            "text/html": [
              "\n",
              "  <div id=\"df-8d65b97c-02f0-4099-adc1-082c0076f8c0\" class=\"colab-df-container\">\n",
              "    <div>\n",
              "<style scoped>\n",
              "    .dataframe tbody tr th:only-of-type {\n",
              "        vertical-align: middle;\n",
              "    }\n",
              "\n",
              "    .dataframe tbody tr th {\n",
              "        vertical-align: top;\n",
              "    }\n",
              "\n",
              "    .dataframe thead th {\n",
              "        text-align: right;\n",
              "    }\n",
              "</style>\n",
              "<table border=\"1\" class=\"dataframe\">\n",
              "  <thead>\n",
              "    <tr style=\"text-align: right;\">\n",
              "      <th></th>\n",
              "      <th>text</th>\n",
              "      <th>label</th>\n",
              "    </tr>\n",
              "  </thead>\n",
              "  <tbody>\n",
              "    <tr>\n",
              "      <th>0</th>\n",
              "      <td>fake news spread lie reader shrug truth new yo...</td>\n",
              "      <td>1</td>\n",
              "    </tr>\n",
              "    <tr>\n",
              "      <th>1</th>\n",
              "      <td>earthling test warn system asteroid fly frankf...</td>\n",
              "      <td>1</td>\n",
              "    </tr>\n",
              "    <tr>\n",
              "      <th>2</th>\n",
              "      <td>atf plan send agent chicago curb violence new ...</td>\n",
              "      <td>1</td>\n",
              "    </tr>\n",
              "    <tr>\n",
              "      <th>3</th>\n",
              "      <td>bear enjoy sprinklermemorable heartwarming fil...</td>\n",
              "      <td>0</td>\n",
              "    </tr>\n",
              "    <tr>\n",
              "      <th>4</th>\n",
              "      <td>republican convention hillary clinton roger ai...</td>\n",
              "      <td>1</td>\n",
              "    </tr>\n",
              "  </tbody>\n",
              "</table>\n",
              "</div>\n",
              "    <div class=\"colab-df-buttons\">\n",
              "\n",
              "  <div class=\"colab-df-container\">\n",
              "    <button class=\"colab-df-convert\" onclick=\"convertToInteractive('df-8d65b97c-02f0-4099-adc1-082c0076f8c0')\"\n",
              "            title=\"Convert this dataframe to an interactive table.\"\n",
              "            style=\"display:none;\">\n",
              "\n",
              "  <svg xmlns=\"http://www.w3.org/2000/svg\" height=\"24px\" viewBox=\"0 -960 960 960\">\n",
              "    <path d=\"M120-120v-720h720v720H120Zm60-500h600v-160H180v160Zm220 220h160v-160H400v160Zm0 220h160v-160H400v160ZM180-400h160v-160H180v160Zm440 0h160v-160H620v160ZM180-180h160v-160H180v160Zm440 0h160v-160H620v160Z\"/>\n",
              "  </svg>\n",
              "    </button>\n",
              "\n",
              "  <style>\n",
              "    .colab-df-container {\n",
              "      display:flex;\n",
              "      gap: 12px;\n",
              "    }\n",
              "\n",
              "    .colab-df-convert {\n",
              "      background-color: #E8F0FE;\n",
              "      border: none;\n",
              "      border-radius: 50%;\n",
              "      cursor: pointer;\n",
              "      display: none;\n",
              "      fill: #1967D2;\n",
              "      height: 32px;\n",
              "      padding: 0 0 0 0;\n",
              "      width: 32px;\n",
              "    }\n",
              "\n",
              "    .colab-df-convert:hover {\n",
              "      background-color: #E2EBFA;\n",
              "      box-shadow: 0px 1px 2px rgba(60, 64, 67, 0.3), 0px 1px 3px 1px rgba(60, 64, 67, 0.15);\n",
              "      fill: #174EA6;\n",
              "    }\n",
              "\n",
              "    .colab-df-buttons div {\n",
              "      margin-bottom: 4px;\n",
              "    }\n",
              "\n",
              "    [theme=dark] .colab-df-convert {\n",
              "      background-color: #3B4455;\n",
              "      fill: #D2E3FC;\n",
              "    }\n",
              "\n",
              "    [theme=dark] .colab-df-convert:hover {\n",
              "      background-color: #434B5C;\n",
              "      box-shadow: 0px 1px 3px 1px rgba(0, 0, 0, 0.15);\n",
              "      filter: drop-shadow(0px 1px 2px rgba(0, 0, 0, 0.3));\n",
              "      fill: #FFFFFF;\n",
              "    }\n",
              "  </style>\n",
              "\n",
              "    <script>\n",
              "      const buttonEl =\n",
              "        document.querySelector('#df-8d65b97c-02f0-4099-adc1-082c0076f8c0 button.colab-df-convert');\n",
              "      buttonEl.style.display =\n",
              "        google.colab.kernel.accessAllowed ? 'block' : 'none';\n",
              "\n",
              "      async function convertToInteractive(key) {\n",
              "        const element = document.querySelector('#df-8d65b97c-02f0-4099-adc1-082c0076f8c0');\n",
              "        const dataTable =\n",
              "          await google.colab.kernel.invokeFunction('convertToInteractive',\n",
              "                                                    [key], {});\n",
              "        if (!dataTable) return;\n",
              "\n",
              "        const docLinkHtml = 'Like what you see? Visit the ' +\n",
              "          '<a target=\"_blank\" href=https://colab.research.google.com/notebooks/data_table.ipynb>data table notebook</a>'\n",
              "          + ' to learn more about interactive tables.';\n",
              "        element.innerHTML = '';\n",
              "        dataTable['output_type'] = 'display_data';\n",
              "        await google.colab.output.renderOutput(dataTable, element);\n",
              "        const docLink = document.createElement('div');\n",
              "        docLink.innerHTML = docLinkHtml;\n",
              "        element.appendChild(docLink);\n",
              "      }\n",
              "    </script>\n",
              "  </div>\n",
              "\n",
              "\n",
              "<div id=\"df-5128225f-b51d-4dc8-9bb7-c7751dcf8372\">\n",
              "  <button class=\"colab-df-quickchart\" onclick=\"quickchart('df-5128225f-b51d-4dc8-9bb7-c7751dcf8372')\"\n",
              "            title=\"Suggest charts\"\n",
              "            style=\"display:none;\">\n",
              "\n",
              "<svg xmlns=\"http://www.w3.org/2000/svg\" height=\"24px\"viewBox=\"0 0 24 24\"\n",
              "     width=\"24px\">\n",
              "    <g>\n",
              "        <path d=\"M19 3H5c-1.1 0-2 .9-2 2v14c0 1.1.9 2 2 2h14c1.1 0 2-.9 2-2V5c0-1.1-.9-2-2-2zM9 17H7v-7h2v7zm4 0h-2V7h2v10zm4 0h-2v-4h2v4z\"/>\n",
              "    </g>\n",
              "</svg>\n",
              "  </button>\n",
              "\n",
              "<style>\n",
              "  .colab-df-quickchart {\n",
              "      --bg-color: #E8F0FE;\n",
              "      --fill-color: #1967D2;\n",
              "      --hover-bg-color: #E2EBFA;\n",
              "      --hover-fill-color: #174EA6;\n",
              "      --disabled-fill-color: #AAA;\n",
              "      --disabled-bg-color: #DDD;\n",
              "  }\n",
              "\n",
              "  [theme=dark] .colab-df-quickchart {\n",
              "      --bg-color: #3B4455;\n",
              "      --fill-color: #D2E3FC;\n",
              "      --hover-bg-color: #434B5C;\n",
              "      --hover-fill-color: #FFFFFF;\n",
              "      --disabled-bg-color: #3B4455;\n",
              "      --disabled-fill-color: #666;\n",
              "  }\n",
              "\n",
              "  .colab-df-quickchart {\n",
              "    background-color: var(--bg-color);\n",
              "    border: none;\n",
              "    border-radius: 50%;\n",
              "    cursor: pointer;\n",
              "    display: none;\n",
              "    fill: var(--fill-color);\n",
              "    height: 32px;\n",
              "    padding: 0;\n",
              "    width: 32px;\n",
              "  }\n",
              "\n",
              "  .colab-df-quickchart:hover {\n",
              "    background-color: var(--hover-bg-color);\n",
              "    box-shadow: 0 1px 2px rgba(60, 64, 67, 0.3), 0 1px 3px 1px rgba(60, 64, 67, 0.15);\n",
              "    fill: var(--button-hover-fill-color);\n",
              "  }\n",
              "\n",
              "  .colab-df-quickchart-complete:disabled,\n",
              "  .colab-df-quickchart-complete:disabled:hover {\n",
              "    background-color: var(--disabled-bg-color);\n",
              "    fill: var(--disabled-fill-color);\n",
              "    box-shadow: none;\n",
              "  }\n",
              "\n",
              "  .colab-df-spinner {\n",
              "    border: 2px solid var(--fill-color);\n",
              "    border-color: transparent;\n",
              "    border-bottom-color: var(--fill-color);\n",
              "    animation:\n",
              "      spin 1s steps(1) infinite;\n",
              "  }\n",
              "\n",
              "  @keyframes spin {\n",
              "    0% {\n",
              "      border-color: transparent;\n",
              "      border-bottom-color: var(--fill-color);\n",
              "      border-left-color: var(--fill-color);\n",
              "    }\n",
              "    20% {\n",
              "      border-color: transparent;\n",
              "      border-left-color: var(--fill-color);\n",
              "      border-top-color: var(--fill-color);\n",
              "    }\n",
              "    30% {\n",
              "      border-color: transparent;\n",
              "      border-left-color: var(--fill-color);\n",
              "      border-top-color: var(--fill-color);\n",
              "      border-right-color: var(--fill-color);\n",
              "    }\n",
              "    40% {\n",
              "      border-color: transparent;\n",
              "      border-right-color: var(--fill-color);\n",
              "      border-top-color: var(--fill-color);\n",
              "    }\n",
              "    60% {\n",
              "      border-color: transparent;\n",
              "      border-right-color: var(--fill-color);\n",
              "    }\n",
              "    80% {\n",
              "      border-color: transparent;\n",
              "      border-right-color: var(--fill-color);\n",
              "      border-bottom-color: var(--fill-color);\n",
              "    }\n",
              "    90% {\n",
              "      border-color: transparent;\n",
              "      border-bottom-color: var(--fill-color);\n",
              "    }\n",
              "  }\n",
              "</style>\n",
              "\n",
              "  <script>\n",
              "    async function quickchart(key) {\n",
              "      const quickchartButtonEl =\n",
              "        document.querySelector('#' + key + ' button');\n",
              "      quickchartButtonEl.disabled = true;  // To prevent multiple clicks.\n",
              "      quickchartButtonEl.classList.add('colab-df-spinner');\n",
              "      try {\n",
              "        const charts = await google.colab.kernel.invokeFunction(\n",
              "            'suggestCharts', [key], {});\n",
              "      } catch (error) {\n",
              "        console.error('Error during call to suggestCharts:', error);\n",
              "      }\n",
              "      quickchartButtonEl.classList.remove('colab-df-spinner');\n",
              "      quickchartButtonEl.classList.add('colab-df-quickchart-complete');\n",
              "    }\n",
              "    (() => {\n",
              "      let quickchartButtonEl =\n",
              "        document.querySelector('#df-5128225f-b51d-4dc8-9bb7-c7751dcf8372 button');\n",
              "      quickchartButtonEl.style.display =\n",
              "        google.colab.kernel.accessAllowed ? 'block' : 'none';\n",
              "    })();\n",
              "  </script>\n",
              "</div>\n",
              "    </div>\n",
              "  </div>\n"
            ],
            "text/plain": [
              "                                                text  label\n",
              "0  fake news spread lie reader shrug truth new yo...      1\n",
              "1  earthling test warn system asteroid fly frankf...      1\n",
              "2  atf plan send agent chicago curb violence new ...      1\n",
              "3  bear enjoy sprinklermemorable heartwarming fil...      0\n",
              "4  republican convention hillary clinton roger ai...      1"
            ]
          },
          "execution_count": 4,
          "metadata": {},
          "output_type": "execute_result"
        }
      ],
      "source": [
        "df1 = pd.read_csv(\"/content/drive/MyDrive/Thesis/Learning_DataSet/train1.csv\", sep=\";\")\n",
        "df2 = pd.read_csv(\"/content/drive/MyDrive/Thesis/Learning_DataSet/train.csv\", sep=\";\")\n",
        "df3 = pd.read_csv(\"/content/drive/MyDrive/Thesis/Learning_DataSet/train2.csv\", sep=\";\")\n",
        "\n",
        "df  = pd.concat([df1, df2, df3])\n",
        "df = df.sample(frac=1, random_state=42).reset_index(drop=True)\n",
        "\n",
        "df.head(5)"
      ]
    },
    {
      "cell_type": "markdown",
      "metadata": {
        "id": "ybB1ewLFGCkK"
      },
      "source": [
        "Load the testing data"
      ]
    },
    {
      "cell_type": "code",
      "execution_count": 5,
      "metadata": {
        "id": "0Sj9pIhW4EC2"
      },
      "outputs": [],
      "source": [
        "t1 = pd.read_csv(\"/content/drive/MyDrive/Thesis/Learning_DataSet/test1.csv\", sep=\";\")\n",
        "t2 = pd.read_csv(\"/content/drive/MyDrive/Thesis/Learning_DataSet/test.csv\", sep=\";\")\n",
        "t3 = pd.read_csv(\"/content/drive/MyDrive/Thesis/Learning_DataSet/test2.csv\", sep=\";\")\n",
        "\n",
        "test  = pd.concat([t1, t2, t3])\n",
        "test = test.sample(frac=1, random_state=42).reset_index(drop=True)"
      ]
    },
    {
      "cell_type": "code",
      "execution_count": 7,
      "metadata": {
        "id": "KeEIDO11aIwz"
      },
      "outputs": [],
      "source": [
        "df.dropna(inplace = True)\n",
        "test.dropna(inplace = True)"
      ]
    },
    {
      "cell_type": "code",
      "execution_count": 9,
      "metadata": {
        "colab": {
          "base_uri": "https://localhost:8080/"
        },
        "id": "QfaCndZVlmgd",
        "outputId": "f7d97198-d8a4-4af9-c292-e7bcfa1d6ced"
      },
      "outputs": [
        {
          "name": "stdout",
          "output_type": "stream",
          "text": [
            "Fake and real from training: \n",
            "label\n",
            "1    12529\n",
            "0    12529\n",
            "Name: count, dtype: int64\n",
            "Fake and real from testing\n",
            "label\n",
            "0    3054\n",
            "1    3039\n",
            "Name: count, dtype: int64\n"
          ]
        }
      ],
      "source": [
        "print(\"Fake and real from training: \")\n",
        "print(df['label'].value_counts())\n",
        "print(\"Fake and real from testing\")\n",
        "print(test['label'].value_counts())"
      ]
    },
    {
      "cell_type": "code",
      "execution_count": 10,
      "metadata": {
        "colab": {
          "base_uri": "https://localhost:8080/"
        },
        "id": "TfN6Jgh9as5Z",
        "outputId": "bf3e1726-058c-4823-8010-891154eb133f"
      },
      "outputs": [
        {
          "data": {
            "text/plain": [
              "text     0\n",
              "label    0\n",
              "dtype: int64"
            ]
          },
          "execution_count": 10,
          "metadata": {},
          "output_type": "execute_result"
        }
      ],
      "source": [
        "df.isna().sum() # sum of none, check if droped all"
      ]
    },
    {
      "cell_type": "markdown",
      "metadata": {
        "id": "ye6cMNESHCCb"
      },
      "source": [
        "Countplot of articles, distributed between fake and real classes"
      ]
    },
    {
      "cell_type": "code",
      "execution_count": 33,
      "metadata": {
        "colab": {
          "base_uri": "https://localhost:8080/",
          "height": 656
        },
        "id": "XuEfSbVCmjKL",
        "outputId": "28a50659-b624-42a6-c96d-ef2d96a2d1ba"
      },
      "outputs": [
        {
          "name": "stderr",
          "output_type": "stream",
          "text": [
            "<ipython-input-33-c1fd76ee171d>:13: FutureWarning: \n",
            "\n",
            "Passing `palette` without assigning `hue` is deprecated and will be removed in v0.14.0. Assign the `x` variable to `hue` and set `legend=False` for the same effect.\n",
            "\n",
            "  sns.countplot(x='label', data=df, palette=palette)\n"
          ]
        },
        {
          "data": {
            "image/png": "[encoded data removed]",
            "text/plain": [
              "<Figure size 1000x600 with 1 Axes>"
            ]
          },
          "metadata": {},
          "output_type": "display_data"
        }
      ],
      "source": [
        "import json\n",
        "import numpy as np\n",
        "import pandas as pd\n",
        "import matplotlib.pyplot as plt\n",
        "import seaborn as sns\n",
        "\n",
        "# Ensure consistent results\n",
        "np.random.seed(2023)\n",
        "\n",
        "# Plotting the count of labels\n",
        "plt.figure(figsize=(10, 6))\n",
        "palette = {\"1\": \"green\", \"0\": \"red\"}\n",
        "sns.countplot(x='label', data=df, palette=palette)\n",
        "plt.title('Count of Labels')\n",
        "plt.show()\n",
        "\n",
        "# Retrieve count data and format it\n",
        "count_data = df['label'].value_counts().to_dict()\n",
        "count_data_json = {'Fake': round(count_data[0]), 'Real': round(count_data[1])}\n",
        "\n",
        "# Save to JSON file\n",
        "with open('count_plot_data_LR.json', 'w') as json_file:\n",
        "    json.dump(count_data_json, json_file)\n"
      ]
    },
    {
      "cell_type": "markdown",
      "metadata": {
        "id": "JVyJYOGyVNpC"
      },
      "source": [
        "### **Clean the dataset and combine titles and text**"
      ]
    },
    {
      "cell_type": "code",
      "execution_count": 14,
      "metadata": {
        "id": "d_o0Dx00gx_f"
      },
      "outputs": [],
      "source": [
        "import string\n",
        "df['text'] = df['text'].astype(str) # turn all text to string\n",
        "\n",
        "def clean_text_data(text):\n",
        "  text = str(text)\n",
        "  text = text.lower()\n",
        "  to_remove = r'https?://\\S+|www\\.\\S+|<.*?>|\\d+|\\W+'\n",
        "  text = re.sub(to_remove, ' ', text)\n",
        "  return text.strip()\n",
        "\n",
        "df['text'] = df['text'].apply(clean_text_data)\n",
        "test['text'] = test['text'].apply(clean_text_data)\n"
      ]
    },
    {
      "cell_type": "code",
      "execution_count": 15,
      "metadata": {
        "colab": {
          "base_uri": "https://localhost:8080/"
        },
        "id": "aMzrGRKqC8g3",
        "outputId": "077ed65f-b984-44a4-f334-d3698c30484d"
      },
      "outputs": [
        {
          "name": "stdout",
          "output_type": "stream",
          "text": [
            "2874.7089951312955\n"
          ]
        }
      ],
      "source": [
        "print(df['text'].str.len().mean()) # mean lenhght of the string in characters in the dataset"
      ]
    },
    {
      "cell_type": "markdown",
      "metadata": {
        "id": "N5SKSd4kQjD9"
      },
      "source": [
        "### **Show how articles are distributed with length over each class. This will aid in choosing how long the user input should be.**"
      ]
    },
    {
      "cell_type": "code",
      "execution_count": 34,
      "metadata": {
        "colab": {
          "base_uri": "https://localhost:8080/",
          "height": 656
        },
        "id": "UNK79gN6Oo5y",
        "outputId": "e8fe617c-9521-47c3-fd17-a8e3d57d2cd6"
      },
      "outputs": [
        {
          "name": "stderr",
          "output_type": "stream",
          "text": [
            "<ipython-input-34-86f2d435ee51>:16: FutureWarning: \n",
            "\n",
            "Passing `palette` without assigning `hue` is deprecated and will be removed in v0.14.0. Assign the `x` variable to `hue` and set `legend=False` for the same effect.\n",
            "\n",
            "  sns.barplot(x=['Fake News', 'Real News'], y=[mean_lengths_json['Fake'], mean_lengths_json['Real']], palette={'Fake News': 'red', 'Real News': 'green'})\n"
          ]
        },
        {
          "data": {
            "image/png": "[encoded data removed]",
            "text/plain": [
              "<Figure size 1000x600 with 1 Axes>"
            ]
          },
          "metadata": {},
          "output_type": "display_data"
        }
      ],
      "source": [
        "import json\n",
        "import pandas as pd\n",
        "import matplotlib.pyplot as plt\n",
        "import seaborn as sns\n",
        "\n",
        "\n",
        "df['length'] = df['text'].apply(len)\n",
        "\n",
        "mean_lengths = df.groupby('label')['length'].mean().to_dict()\n",
        "\n",
        "# Map labels to 'Fake' and 'Real'\n",
        "mean_lengths_json = {'Fake': round(mean_lengths[0]), 'Real':round( mean_lengths[1])}\n",
        "\n",
        "# Plotting the average lengths\n",
        "plt.figure(figsize=(10, 6))\n",
        "sns.barplot(x=['Fake News', 'Real News'], y=[mean_lengths_json['Fake'], mean_lengths_json['Real']], palette={'Fake News': 'red', 'Real News': 'green'})\n",
        "plt.title('Average Length of News Articles')\n",
        "plt.ylabel('Average Length')\n",
        "plt.xlabel('Type of News')\n",
        "plt.show()\n",
        "# Save for web app\n",
        "with open('mean_lengths_LR.json', 'w') as file:\n",
        "    json.dump(mean_lengths_json, file)\n"
      ]
    },
    {
      "cell_type": "code",
      "execution_count": 19,
      "metadata": {
        "colab": {
          "base_uri": "https://localhost:8080/"
        },
        "id": "rpVkIBj5pXtE",
        "outputId": "7dbd1c8d-64a8-4be6-d644-d91f4c2e2fcb"
      },
      "outputs": [
        {
          "name": "stdout",
          "output_type": "stream",
          "text": [
            "5458\n"
          ]
        }
      ],
      "source": [
        "print(len(df['text'][0]))"
      ]
    },
    {
      "cell_type": "markdown",
      "metadata": {
        "id": "RgTUV8l8Id-b"
      },
      "source": [
        "Draw a word cloud, not used in the app, but good to see which words appear the most"
      ]
    },
    {
      "cell_type": "code",
      "execution_count": 20,
      "metadata": {
        "id": "oyQ5HYcCYTLS"
      },
      "outputs": [],
      "source": [
        "import json\n",
        "from wordcloud import WordCloud\n",
        "wcText = ' '.join(str(text) for text in df['text'].tolist())\n",
        "wordcloud = WordCloud(width=1920, height=1080).generate(wcText)"
      ]
    },
    {
      "cell_type": "markdown",
      "metadata": {
        "id": "VnsaqEHHBDAd"
      },
      "source": [
        "### **Preparing the data for model training by splitting the words and redcue to root word**"
      ]
    },
    {
      "cell_type": "code",
      "execution_count": 21,
      "metadata": {
        "colab": {
          "base_uri": "https://localhost:8080/"
        },
        "id": "YNB_86_mBBw1",
        "outputId": "bc8a2945-ebd4-4be5-8770-8daf4825ab1f"
      },
      "outputs": [
        {
          "name": "stderr",
          "output_type": "stream",
          "text": [
            "[nltk_data] Downloading package punkt to /root/nltk_data...\n",
            "[nltk_data]   Unzipping tokenizers/punkt.zip.\n",
            "[nltk_data] Downloading package stopwords to /root/nltk_data...\n",
            "[nltk_data]   Unzipping corpora/stopwords.zip.\n",
            "[nltk_data] Downloading package wordnet to /root/nltk_data...\n"
          ]
        }
      ],
      "source": [
        "import nltk\n",
        "nltk.download('punkt')\n",
        "nltk.download('stopwords')\n",
        "nltk.download('wordnet')\n",
        "from nltk.stem import WordNetLemmatizer as wn\n",
        "from nltk.corpus import stopwords\n",
        "from sklearn.feature_extraction.text import TfidfVectorizer as tfidf\n",
        "from sklearn.model_selection import train_test_split as tts\n",
        "from nltk.tokenize import word_tokenize\n",
        "\n",
        "# remove the stopwords\n",
        "def remove_stopwords_lemmatize(text):\n",
        "    lemmatizer = wn()\n",
        "    tokenized = word_tokenize(text)\n",
        "    stop_words = set(stopwords.words('english'))\n",
        "    return ' '.join([lemmatizer.lemmatize(w) for w in tokenized if w not in stop_words])\n",
        "\n",
        "\n",
        "df['text'] = df['text'].apply(remove_stopwords_lemmatize)\n",
        "test['text'] = test['text'].apply(remove_stopwords_lemmatize)\n"
      ]
    },
    {
      "cell_type": "markdown",
      "metadata": {
        "id": "guGIVLz9JVKO"
      },
      "source": [
        "Vectorize textual data for training so machine can understand"
      ]
    },
    {
      "cell_type": "code",
      "execution_count": 22,
      "metadata": {
        "id": "EdXpZLoULLjE"
      },
      "outputs": [],
      "source": [
        "from sklearn.model_selection import train_test_split\n",
        "from sklearn.feature_extraction.text import TfidfVectorizer\n",
        "from sklearn.feature_extraction.text import CountVectorizer\n",
        "\n",
        "# Define the TfidfVectorizer\n",
        "#tfidf_vectorizer = TfidfVectorizer(max_df=0.8, min_df=0.002)\n",
        "tfidf_vectorizer = TfidfVectorizer()\n",
        "\n",
        "X_train_tfidf = tfidf_vectorizer.fit_transform(df['text'])\n",
        "y_train = df['label']\n",
        "\n",
        "# Transform the test data\n",
        "X_test_tfidf = tfidf_vectorizer.transform(test['text'])"
      ]
    },
    {
      "cell_type": "code",
      "execution_count": 23,
      "metadata": {
        "id": "Qh59tM34eVes"
      },
      "outputs": [],
      "source": [
        "count_vectorizer = CountVectorizer()\n",
        "\n",
        "X_count_trian = count_vectorizer.fit_transform(df['text'])\n",
        "X_count_test = count_vectorizer.transform(test['text'])"
      ]
    },
    {
      "cell_type": "code",
      "execution_count": 24,
      "metadata": {
        "colab": {
          "base_uri": "https://localhost:8080/"
        },
        "id": "qvgDKAuiWzkR",
        "outputId": "907b8d82-9f30-4ec1-b34c-9410de88d654"
      },
      "outputs": [
        {
          "name": "stdout",
          "output_type": "stream",
          "text": [
            "Cross-Validation Accuracy: 0.9356693645886474\n",
            "Test Accuracy: 0.936812735926473\n"
          ]
        }
      ],
      "source": [
        "from sklearn.metrics import accuracy_score\n",
        "from sklearn.model_selection import cross_val_score\n",
        "from sklearn.linear_model import LogisticRegression\n",
        "from sklearn.linear_model import PassiveAggressiveClassifier\n",
        "\n",
        "model = LogisticRegression(C=1, max_iter=100, n_jobs=-1) # tried C < 1\n",
        "scores = cross_val_score(model, X_train_tfidf, y_train, cv=5, scoring='accuracy') # score for accuracy, cross validation more valid\n",
        "print(\"Cross-Validation Accuracy:\", scores.mean())\n",
        "model.fit(X_train_tfidf, y_train) # Fit the model on the training data\n",
        "\n",
        "# Evaluate the model on the test data\n",
        "y_test=test['label']\n",
        "y_pred = model.predict(X_test_tfidf)\n",
        "model_accuracy = accuracy_score(y_test, y_pred)\n",
        "print(\"Test Accuracy:\", model_accuracy)"
      ]
    },
    {
      "cell_type": "code",
      "execution_count": 26,
      "metadata": {
        "colab": {
          "base_uri": "https://localhost:8080/"
        },
        "id": "PvJUARqL56kC",
        "outputId": "cc38b872-cd59-41d0-97e6-8bf0815a6d98"
      },
      "outputs": [
        {
          "name": "stdout",
          "output_type": "stream",
          "text": [
            "Accuracy COUNT: 0.9423929098966026\n"
          ]
        }
      ],
      "source": [
        "model2 = LogisticRegression(max_iter=250, C=0.5) # model for count vectorizer\n",
        "model2.fit(X_count_trian, y_train)\n",
        "pred2 = model2.predict(X_count_test)\n",
        "print(\"Accuracy COUNT:\", accuracy_score(y_test, pred2))"
      ]
    },
    {
      "cell_type": "code",
      "execution_count": 27,
      "metadata": {
        "colab": {
          "base_uri": "https://localhost:8080/"
        },
        "id": "jEE6uUjpX05m",
        "outputId": "ae543418-b3fa-4e00-e227-57e144864b6e"
      },
      "outputs": [
        {
          "name": "stdout",
          "output_type": "stream",
          "text": [
            "Test Accuracy of ngram TFIDF: 0.9312325619563433\n"
          ]
        }
      ],
      "source": [
        "# using 2-gram values for the tfidf\n",
        "model_bigram = LogisticRegression(C=0.70) # Choosing C values, smaller value makes model more complex\n",
        "tfidf_vectorizer_bigram = TfidfVectorizer(ngram_range=(2,2), max_df=0.8, min_df=0.002) # bigram only\n",
        "X_train_tfidf_bigram = tfidf_vectorizer_bigram.fit_transform(df['text'])\n",
        "\n",
        "# Transform the test data\n",
        "X_test_tfidf_bigram = tfidf_vectorizer_bigram.transform(test['text'])\n",
        "model_bigram.fit(X_train_tfidf_bigram, y_train)\n",
        "new_pred =model_bigram.predict(X_test_tfidf_bigram)\n",
        "model_accuracy2 = accuracy_score(y_test, new_pred)\n",
        "print(\"Test Accuracy of ngram TFIDF:\", model_accuracy2)"
      ]
    },
    {
      "cell_type": "markdown",
      "metadata": {
        "id": "mshx1BYTXqC2"
      },
      "source": [
        "Accuracy score is higher for count vectorizer but real life implementation is has better accuracy with TF-**IDF**\n",
        "\n",
        "*   For the unigram and bigram tuple, the tradeoff between the size and performance is too big, as the model and vectorizer together almost have 150MB\n",
        "\n"
      ]
    },
    {
      "cell_type": "code",
      "execution_count": 35,
      "metadata": {
        "colab": {
          "base_uri": "https://localhost:8080/",
          "height": 527
        },
        "id": "U65y6ALUh1qm",
        "outputId": "3a41a073-c6ee-48e5-89d9-e262f3912af5"
      },
      "outputs": [
        {
          "name": "stdout",
          "output_type": "stream",
          "text": [
            "Confusion Matrix:\n",
            " [[2898  156]\n",
            " [ 229 2810]]\n"
          ]
        },
        {
          "data": {
            "image/png": "[encoded data removed]",
            "text/plain": [
              "<Figure size 640x480 with 2 Axes>"
            ]
          },
          "metadata": {},
          "output_type": "display_data"
        }
      ],
      "source": [
        "from sklearn.metrics import confusion_matrix\n",
        "import seaborn as sns\n",
        "import matplotlib.pyplot as plt\n",
        "\n",
        "# Generate the confusion matrix\n",
        "conf_matrix = confusion_matrix(y_test, y_pred)\n",
        "print(\"Confusion Matrix:\\n\", conf_matrix)\n",
        "\n",
        "# Plot the confusion matrix using seaborn\n",
        "sns.heatmap(conf_matrix, annot=True, fmt='d', cmap='Blues')\n",
        "plt.xlabel('Predicted Labels')\n",
        "plt.ylabel('True Labels')\n",
        "plt.title('Confusion Matrix')\n",
        "\n",
        "labels = ['TN', 'FP', 'FN', 'TP'] # labels for quadrant\n",
        "label_positions = [(0,0), (0,1), (1,0), (1,1)]\n",
        "for label, pos in zip(labels, label_positions):\n",
        "    plt.text(pos[1]+0.5, pos[0]+0.25, label, ha='center', va='center', color='red')\n",
        "\n",
        "plt.show()\n"
      ]
    },
    {
      "cell_type": "code",
      "execution_count": 37,
      "metadata": {
        "id": "kCXXEKJTeWkH"
      },
      "outputs": [],
      "source": [
        "import pickle\n",
        "\n",
        "# Pickle the trained ensemble model\n",
        "with open('/content/drive/MyDrive/Thesis/LogisticRegression/touse_latest_LR_second.pkl', 'wb') as f:\n",
        "    pickle.dump(model, f)\n",
        "\n",
        "# Pickle the TF-IDF vectorizer\n",
        "with open('/content/drive/MyDrive/Thesis/LogisticRegression/touse_latest_vect_second.pkl', 'wb') as f:\n",
        "    pickle.dump(tfidf_vectorizer, f)"
      ]
    },
    {
      "cell_type": "code",
      "execution_count": 45,
      "metadata": {
        "id": "EeHT5wXTomx6"
      },
      "outputs": [],
      "source": [
        "def classify(x):\n",
        "    if x == 0:\n",
        "        return \"The news are highly likely to be fake.\"\n",
        "    elif x == 1:\n",
        "        return \"The news are higly likely to be real.\"\n",
        "\n",
        "\n",
        "\n",
        "def verdict(article_text, vect, modela):\n",
        "    # Preprocess the text\n",
        "    preprocessed_text = clean_text_data(article_text)\n",
        "    new_text = remove_stopwords_lemmatize(preprocessed_text)\n",
        "    transformed_text = vect.transform([preprocessed_text])\n",
        "    # Predict using the pre-trained model\n",
        "    prediction = modela.predict(transformed_text)\n",
        "    # Classify the processed prediction\n",
        "    classification = classify(prediction)\n",
        "    print(classification)"
      ]
    },
    {
      "cell_type": "code",
      "execution_count": 46,
      "metadata": {
        "colab": {
          "base_uri": "https://localhost:8080/"
        },
        "id": "EmP5Bkouqbxf",
        "outputId": "56ecd255-026d-4d40-c229-2c3790647355"
      },
      "outputs": [
        {
          "name": "stdout",
          "output_type": "stream",
          "text": [
            "The news are higly likely to be real.\n"
          ]
        }
      ],
      "source": [
        "article = \"Once seen as a likely successor to Iran’s Supreme Leader, President Ebrahim Raisi has died in office, leaving the Islamic Republic’s hardline establishment facing an uncertain future.\\\n",
        "An ultraconservative president, 63-year-old Raisi was killed Sunday, along with Foreign Minister Hossein Amir-Abdollahian and other high-ranking officials, in a helicopter crash in Iran’s remote northwest. Their death comes at a delicate time for a country that faces unprecedented challenges at home and from abroad.\\\n",
        "The Islamic Republic’s economy remains crippled by American sanctions, its young population is becoming growingly restive, and the country faces increasingly belligerent adversaries in the Middle East and beyond.\\\n",
        "Raisi’s death will “trigger elections at a time when the IRI (Islamic Republic of Iran) is at the nadir of its legitimacy and zenith of its exclusionary policies,” Ali Vaez, Iran Project Director at the International Crisis Group think tank, said on X.\"\n",
        "\n",
        "\n",
        "verdict(article, tfidf_vectorizer, model)\n"
      ]
    }
  ],
  "metadata": {
    "colab": {
      "machine_shape": "hm",
      "provenance": []
    },
    "kernelspec": {
      "display_name": "Python 3",
      "name": "python3"
    },
    "language_info": {
      "name": "python"
    }
  },
  "nbformat": 4,
  "nbformat_minor": 0
}
